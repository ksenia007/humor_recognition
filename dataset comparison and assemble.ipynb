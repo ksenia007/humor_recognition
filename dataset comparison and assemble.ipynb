{
 "cells": [
  {
   "cell_type": "code",
   "execution_count": 1,
   "metadata": {},
   "outputs": [],
   "source": [
    "import numpy as np\n",
    "import pandas as pd\n",
    "import pickle\n",
    "import matplotlib.pyplot as plt\n",
    "import os\n",
    "import seaborn as sns\n",
    "pd.set_option('display.max_colwidth', -1)\n",
    "import re\n",
    "import json\n",
    "from sklearn.model_selection import train_test_split"
   ]
  },
  {
   "cell_type": "markdown",
   "metadata": {},
   "source": [
    "# Split data"
   ]
  },
  {
   "cell_type": "code",
   "execution_count": 56,
   "metadata": {},
   "outputs": [],
   "source": [
    "humi = pd.read_csv('data/created_datasets/humi_funlines_all_train_upaired.csv')\n",
    "oneliners = pd.read_csv('data/created_datasets/humorous_oneliners_all.csv')\n",
    "puns = pd.read_csv('data/created_datasets/whole/puns_all.csv')\n",
    "short = pd.read_csv('data/created_datasets/shortjokes_all.csv')\n",
    "neutral = pd.read_csv('data/created_datasets/neutral_text.csv')[['text', 'label']]\n",
    "neutral200k = pd.read_csv('data/created_datasets/200K_million_news.csv')[['text', 'label']]"
   ]
  },
  {
   "cell_type": "code",
   "execution_count": 52,
   "metadata": {},
   "outputs": [],
   "source": [
    "oneliners_data = pd.concat([oneliners, neutral]).sample(frac=1).reset_index(drop=True)"
   ]
  },
  {
   "cell_type": "code",
   "execution_count": 53,
   "metadata": {},
   "outputs": [],
   "source": [
    "train, val = train_test_split(oneliners_data, test_size=0.2)\n",
    "train.to_csv('data/created_datasets/oneliners_neutral_train.csv', index=False)\n",
    "val.to_csv('data/created_datasets/oneliners_neutral_test.csv', index=False)"
   ]
  },
  {
   "cell_type": "code",
   "execution_count": 77,
   "metadata": {},
   "outputs": [],
   "source": [
    "train, val = train_test_split(puns, test_size=0.2)\n",
    "train.to_csv('data/created_datasets/puns_train.csv', index=False)\n",
    "val.to_csv('data/created_datasets/puns_test.csv', index=False)"
   ]
  },
  {
   "cell_type": "code",
   "execution_count": 50,
   "metadata": {},
   "outputs": [
    {
     "data": {
      "text/plain": [
       "(29321, 5)"
      ]
     },
     "execution_count": 50,
     "metadata": {},
     "output_type": "execute_result"
    }
   ],
   "source": [
    "humi.shape"
   ]
  },
  {
   "cell_type": "code",
   "execution_count": 58,
   "metadata": {},
   "outputs": [
    {
     "data": {
      "text/html": [
       "<div>\n",
       "<style scoped>\n",
       "    .dataframe tbody tr th:only-of-type {\n",
       "        vertical-align: middle;\n",
       "    }\n",
       "\n",
       "    .dataframe tbody tr th {\n",
       "        vertical-align: top;\n",
       "    }\n",
       "\n",
       "    .dataframe thead th {\n",
       "        text-align: right;\n",
       "    }\n",
       "</style>\n",
       "<table border=\"1\" class=\"dataframe\">\n",
       "  <thead>\n",
       "    <tr style=\"text-align: right;\">\n",
       "      <th></th>\n",
       "      <th>text</th>\n",
       "      <th>label</th>\n",
       "    </tr>\n",
       "  </thead>\n",
       "  <tbody>\n",
       "    <tr>\n",
       "      <th>0</th>\n",
       "      <td>teen who kicked cop in the head should be jailed court told</td>\n",
       "      <td>0.0</td>\n",
       "    </tr>\n",
       "    <tr>\n",
       "      <th>1</th>\n",
       "      <td>What's the difference between sand and menstrual blood? You can't drink sand.</td>\n",
       "      <td>1.0</td>\n",
       "    </tr>\n",
       "    <tr>\n",
       "      <th>2</th>\n",
       "      <td>Why do Canadians prefer their jokes in hexadecimal? Because 7 8 9 A.</td>\n",
       "      <td>1.0</td>\n",
       "    </tr>\n",
       "    <tr>\n",
       "      <th>3</th>\n",
       "      <td>Whats the least paying job? British dentist.</td>\n",
       "      <td>1.0</td>\n",
       "    </tr>\n",
       "    <tr>\n",
       "      <th>4</th>\n",
       "      <td>falling lake eppalock reservoir taking toll on tourism</td>\n",
       "      <td>0.0</td>\n",
       "    </tr>\n",
       "  </tbody>\n",
       "</table>\n",
       "</div>"
      ],
      "text/plain": [
       "                                                                            text  \\\n",
       "0  teen who kicked cop in the head should be jailed court told                     \n",
       "1  What's the difference between sand and menstrual blood? You can't drink sand.   \n",
       "2  Why do Canadians prefer their jokes in hexadecimal? Because 7 8 9 A.            \n",
       "3  Whats the least paying job? British dentist.                                    \n",
       "4  falling lake eppalock reservoir taking toll on tourism                          \n",
       "\n",
       "   label  \n",
       "0  0.0    \n",
       "1  1.0    \n",
       "2  1.0    \n",
       "3  1.0    \n",
       "4  0.0    "
      ]
     },
     "execution_count": 58,
     "metadata": {},
     "output_type": "execute_result"
    }
   ],
   "source": [
    "short_news = pd.concat([short[['text', 'label']], neutral200k]).sample(frac=1).reset_index(drop=True)\n",
    "short_news.head()"
   ]
  },
  {
   "cell_type": "code",
   "execution_count": 59,
   "metadata": {},
   "outputs": [],
   "source": [
    "train, val = train_test_split(short_news, test_size=0.2)\n",
    "train.to_csv('data/created_datasets/short_news_train.csv', index=False)\n",
    "val.to_csv('data/created_datasets/short_news_test.csv', index=False)"
   ]
  },
  {
   "cell_type": "markdown",
   "metadata": {},
   "source": [
    "# Load train data"
   ]
  },
  {
   "cell_type": "code",
   "execution_count": 60,
   "metadata": {},
   "outputs": [],
   "source": [
    "humi = pd.read_csv('data/created_datasets/humi_funlines_all_train_upaired.csv')\n",
    "oneliners = pd.read_csv('data/created_datasets/oneliners_neutral_train.csv')\n",
    "puns = pd.read_csv('data/created_datasets/puns_train.csv')\n",
    "short = pd.read_csv('data/created_datasets/short_news_train.csv')"
   ]
  },
  {
   "cell_type": "code",
   "execution_count": 61,
   "metadata": {},
   "outputs": [
    {
     "data": {
      "text/html": [
       "<div>\n",
       "<style scoped>\n",
       "    .dataframe tbody tr th:only-of-type {\n",
       "        vertical-align: middle;\n",
       "    }\n",
       "\n",
       "    .dataframe tbody tr th {\n",
       "        vertical-align: top;\n",
       "    }\n",
       "\n",
       "    .dataframe thead th {\n",
       "        text-align: right;\n",
       "    }\n",
       "</style>\n",
       "<table border=\"1\" class=\"dataframe\">\n",
       "  <thead>\n",
       "    <tr style=\"text-align: right;\">\n",
       "      <th></th>\n",
       "      <th>dataset</th>\n",
       "      <th>n_samples</th>\n",
       "    </tr>\n",
       "  </thead>\n",
       "  <tbody>\n",
       "    <tr>\n",
       "      <th>0</th>\n",
       "      <td>Humicroedit + Funlines</td>\n",
       "      <td>4720.0</td>\n",
       "    </tr>\n",
       "    <tr>\n",
       "      <th>1</th>\n",
       "      <td>Oneliners</td>\n",
       "      <td>13410.0</td>\n",
       "    </tr>\n",
       "    <tr>\n",
       "      <th>2</th>\n",
       "      <td>Puns</td>\n",
       "      <td>3860.0</td>\n",
       "    </tr>\n",
       "    <tr>\n",
       "      <th>3</th>\n",
       "      <td>Short Jokes</td>\n",
       "      <td>345316.0</td>\n",
       "    </tr>\n",
       "  </tbody>\n",
       "</table>\n",
       "</div>"
      ],
      "text/plain": [
       "                  dataset  n_samples\n",
       "0  Humicroedit + Funlines  4720.0   \n",
       "1  Oneliners               13410.0  \n",
       "2  Puns                    3860.0   \n",
       "3  Short Jokes             345316.0 "
      ]
     },
     "execution_count": 61,
     "metadata": {},
     "output_type": "execute_result"
    }
   ],
   "source": [
    "numberjokes = pd.DataFrame({\n",
    "    'dataset': ['Humicroedit + Funlines', 'Oneliners', 'Puns', 'Short Jokes'],\n",
    "    'n_samples': [sum(humi.label), oneliners.shape[0], puns.shape[0], short.shape[0]]\n",
    "})\n",
    "numberjokes"
   ]
  },
  {
   "cell_type": "code",
   "execution_count": 70,
   "metadata": {},
   "outputs": [],
   "source": [
    "len_humi = [len(row.text.split(' ')) for i, row in humi.iterrows() if row.label == 1]\n",
    "len_one = [len(row.text.split(' ')) for i, row in oneliners.iterrows() if row.label == 1]\n",
    "len_pun = [len(row.text.split(' ')) for i, row in puns.iterrows() if row.label == 1]\n",
    "len_short = [len(row.text.split(' ')) for i, row in short.iterrows() if row.label == 1]"
   ]
  },
  {
   "cell_type": "code",
   "execution_count": 71,
   "metadata": {},
   "outputs": [
    {
     "data": {
      "text/plain": [
       "Text(0.5, 0, 'Number of words')"
      ]
     },
     "execution_count": 71,
     "metadata": {},
     "output_type": "execute_result"
    },
    {
     "data": {
      "image/png": "[encoded data removed]",
      "text/plain": [
       "<Figure size 432x288 with 1 Axes>"
      ]
     },
     "metadata": {},
     "output_type": "display_data"
    }
   ],
   "source": [
    "sns.set(font_scale=1.3)\n",
    "sns.set_style(\"whitegrid\")\n",
    "fig, axs = plt.subplots(1, 1, figsize = (6,4))\n",
    "sns.kdeplot(len_humi, label='Humicroedit + Funlines', ax=axs, lw=2)\n",
    "sns.kdeplot(len_one, label='Oneliners', ax=axs, lw=2)\n",
    "sns.kdeplot(len_pun, label='Puns', ax=axs, lw=2)\n",
    "sns.kdeplot(len_short, label='Short Jokes', ax=axs, lw=2)\n",
    "#sns.barplot(x=\"dataset\", y=\"n_samples\", data=numberjokes, ax=axs[1])\n",
    "axs.set_title('Number of words in text', size=15)\n",
    "axs.set_xlabel('Number of words')\n",
    "#axs[1].set_title('Number of positive samples in each dataset')"
   ]
  },
  {
   "cell_type": "markdown",
   "metadata": {},
   "source": [
    "# Combinations"
   ]
  },
  {
   "cell_type": "code",
   "execution_count": 78,
   "metadata": {},
   "outputs": [],
   "source": [
    "humi = pd.read_csv('data/created_datasets/humi_funlines_all_train_upaired.csv')\n",
    "onel = pd.read_csv('data/created_datasets/oneliners_neutral_train.csv')\n",
    "puns = pd.read_csv('data/created_datasets/puns_train_all.csv')\n",
    "short = pd.read_csv('data/created_datasets/short_news_train.csv')"
   ]
  },
  {
   "cell_type": "code",
   "execution_count": 73,
   "metadata": {},
   "outputs": [],
   "source": [
    "train, val = train_test_split(humi, test_size=0.2)\n",
    "train.to_csv('data/created_datasets/humicroedit_train.csv', index=False)\n",
    "val.to_csv('data/created_datasets/humicroedit_validation.csv', index=False)"
   ]
  },
  {
   "cell_type": "code",
   "execution_count": 74,
   "metadata": {},
   "outputs": [],
   "source": [
    "train, val = train_test_split(onel, test_size=0.2)\n",
    "train.to_csv('data/created_datasets/oneliners_train.csv', index=False)\n",
    "val.to_csv('data/created_datasets/oneliners_validation.csv', index=False)"
   ]
  },
  {
   "cell_type": "code",
   "execution_count": 79,
   "metadata": {},
   "outputs": [],
   "source": [
    "train, val = train_test_split(puns, test_size=0.2)\n",
    "train.to_csv('data/created_datasets/puns_train.csv', index=False)\n",
    "val.to_csv('data/created_datasets/puns_validation.csv', index=False)"
   ]
  },
  {
   "cell_type": "code",
   "execution_count": 80,
   "metadata": {},
   "outputs": [],
   "source": [
    "train, val = train_test_split(short, test_size=0.2)\n",
    "train.to_csv('data/created_datasets/short_train.csv', index=False)\n",
    "val.to_csv('data/created_datasets/short_validation.csv', index=False)"
   ]
  },
  {
   "cell_type": "code",
   "execution_count": 83,
   "metadata": {},
   "outputs": [
    {
     "data": {
      "text/html": [
       "<div>\n",
       "<style scoped>\n",
       "    .dataframe tbody tr th:only-of-type {\n",
       "        vertical-align: middle;\n",
       "    }\n",
       "\n",
       "    .dataframe tbody tr th {\n",
       "        vertical-align: top;\n",
       "    }\n",
       "\n",
       "    .dataframe thead th {\n",
       "        text-align: right;\n",
       "    }\n",
       "</style>\n",
       "<table border=\"1\" class=\"dataframe\">\n",
       "  <thead>\n",
       "    <tr style=\"text-align: right;\">\n",
       "      <th></th>\n",
       "      <th>text</th>\n",
       "      <th>label</th>\n",
       "      <th>weight</th>\n",
       "    </tr>\n",
       "  </thead>\n",
       "  <tbody>\n",
       "    <tr>\n",
       "      <th>0</th>\n",
       "      <td>A black woman had 5 sons name Tyrone, Tyrone, Tyrone, Tyrone and Tyrone.... How did she tell them apart? She called them by their last names</td>\n",
       "      <td>1.0</td>\n",
       "      <td>0.5</td>\n",
       "    </tr>\n",
       "    <tr>\n",
       "      <th>1</th>\n",
       "      <td>nrl eels wrap with matthew elliot</td>\n",
       "      <td>0.0</td>\n",
       "      <td>1.0</td>\n",
       "    </tr>\n",
       "  </tbody>\n",
       "</table>\n",
       "</div>"
      ],
      "text/plain": [
       "                                                                                                                                           text  \\\n",
       "0  A black woman had 5 sons name Tyrone, Tyrone, Tyrone, Tyrone and Tyrone.... How did she tell them apart? She called them by their last names   \n",
       "1  nrl eels wrap with matthew elliot                                                                                                              \n",
       "\n",
       "   label  weight  \n",
       "0  1.0    0.5     \n",
       "1  0.0    1.0     "
      ]
     },
     "execution_count": 83,
     "metadata": {},
     "output_type": "execute_result"
    }
   ],
   "source": [
    "short['weight'] = short.label.replace({0: 1, 1:0.5})\n",
    "short.head(2)"
   ]
  },
  {
   "cell_type": "code",
   "execution_count": 89,
   "metadata": {},
   "outputs": [],
   "source": [
    "basic = pd.concat([humi[['text', 'label']], onel[['text', 'label']], puns[['text', 'label']]])\n",
    "train, val = train_test_split(basic, test_size=0.2)\n",
    "train.to_csv('data/created_datasets/basic_v1_train.csv', index=False)\n",
    "val.to_csv('data/created_datasets/basic_v1_validation.csv', index=False)"
   ]
  },
  {
   "cell_type": "code",
   "execution_count": 90,
   "metadata": {},
   "outputs": [],
   "source": [
    "basic = pd.concat([onel[['text', 'label']], puns[['text', 'label']]])\n",
    "train, val = train_test_split(basic, test_size=0.2)\n",
    "train.to_csv('data/created_datasets/basic_v2_train.csv', index=False)\n",
    "val.to_csv('data/created_datasets/basic_v2_validation.csv', index=False)"
   ]
  },
  {
   "cell_type": "code",
   "execution_count": 96,
   "metadata": {},
   "outputs": [
    {
     "name": "stderr",
     "output_type": "stream",
     "text": [
      "/Users/ksenia/Documents/!Summer2019/DeepSea_Disease/deepsea-disease/lib/python3.7/site-packages/ipykernel_launcher.py:1: FutureWarning: Sorting because non-concatenation axis is not aligned. A future version\n",
      "of pandas will change to not sort by default.\n",
      "\n",
      "To accept the future behavior, pass 'sort=False'.\n",
      "\n",
      "To retain the current behavior and silence the warning, pass 'sort=True'.\n",
      "\n",
      "  \"\"\"Entry point for launching an IPython kernel.\n"
     ]
    }
   ],
   "source": [
    "weighted_all = pd.concat([humi[['text', 'label']], onel[['text', 'label']], puns[['text', 'label']], short]).fillna(1)\n",
    "train, val = train_test_split(weighted_all, test_size=0.2)\n",
    "train.to_csv('data/created_datasets/weighted_v1_train.csv', index=False)\n",
    "val.to_csv('data/created_datasets/weighted_v1_validation.csv', index=False)"
   ]
  },
  {
   "cell_type": "code",
   "execution_count": 97,
   "metadata": {},
   "outputs": [
    {
     "name": "stderr",
     "output_type": "stream",
     "text": [
      "/Users/ksenia/Documents/!Summer2019/DeepSea_Disease/deepsea-disease/lib/python3.7/site-packages/ipykernel_launcher.py:1: FutureWarning: Sorting because non-concatenation axis is not aligned. A future version\n",
      "of pandas will change to not sort by default.\n",
      "\n",
      "To accept the future behavior, pass 'sort=False'.\n",
      "\n",
      "To retain the current behavior and silence the warning, pass 'sort=True'.\n",
      "\n",
      "  \"\"\"Entry point for launching an IPython kernel.\n"
     ]
    }
   ],
   "source": [
    "weighted_all = pd.concat([humi[['text', 'label']], onel[['text', 'label']], puns[['text', 'label']], short[:50000]]).fillna(1)\n",
    "train, val = train_test_split(weighted_all, test_size=0.2)\n",
    "train.to_csv('data/created_datasets/weighted_v2_train.csv', index=False)\n",
    "val.to_csv('data/created_datasets/weighted_v2_validation.csv', index=False)"
   ]
  },
  {
   "cell_type": "code",
   "execution_count": 98,
   "metadata": {},
   "outputs": [
    {
     "name": "stderr",
     "output_type": "stream",
     "text": [
      "/Users/ksenia/Documents/!Summer2019/DeepSea_Disease/deepsea-disease/lib/python3.7/site-packages/ipykernel_launcher.py:1: FutureWarning: Sorting because non-concatenation axis is not aligned. A future version\n",
      "of pandas will change to not sort by default.\n",
      "\n",
      "To accept the future behavior, pass 'sort=False'.\n",
      "\n",
      "To retain the current behavior and silence the warning, pass 'sort=True'.\n",
      "\n",
      "  \"\"\"Entry point for launching an IPython kernel.\n"
     ]
    }
   ],
   "source": [
    "weighted_all = pd.concat([humi[['text', 'label']], onel[['text', 'label']], puns[['text', 'label']], short[:100000]]).fillna(1)\n",
    "train, val = train_test_split(weighted_all, test_size=0.2)\n",
    "train.to_csv('data/created_datasets/weighted_v3_train.csv', index=False)\n",
    "val.to_csv('data/created_datasets/weighted_v3_validation.csv', index=False)"
   ]
  },
  {
   "cell_type": "code",
   "execution_count": null,
   "metadata": {},
   "outputs": [],
   "source": []
  }
 ],
 "metadata": {
  "kernelspec": {
   "display_name": "deepsea-disease",
   "language": "python",
   "name": "deepsea-disease"
  },
  "language_info": {
   "codemirror_mode": {
    "name": "ipython",
    "version": 3
   },
   "file_extension": ".py",
   "mimetype": "text/x-python",
   "name": "python",
   "nbconvert_exporter": "python",
   "pygments_lexer": "ipython3",
   "version": "3.7.3"
  }
 },
 "nbformat": 4,
 "nbformat_minor": 4
}
