{
 "cells": [
  {
   "cell_type": "code",
   "execution_count": 1,
   "metadata": {},
   "outputs": [],
   "source": [
    "import pandas as pd\n",
    "import numpy as np\n",
    "import matplotlib.pyplot as plt\n",
    "import seaborn as sns\n",
    "colors = [\"amber\", \"windows blue\", \"greyish\", \"faded green\", \"dusty purple\"]\n",
    "sns.set_palette(sns.xkcd_palette(colors))"
   ]
  },
  {
   "cell_type": "markdown",
   "metadata": {},
   "source": [
    "# Task 1\n",
    "\n",
    "## Load the data"
   ]
  },
  {
   "cell_type": "code",
   "execution_count": 3,
   "metadata": {},
   "outputs": [
    {
     "data": {
      "text/html": [
       "<div>\n",
       "<style scoped>\n",
       "    .dataframe tbody tr th:only-of-type {\n",
       "        vertical-align: middle;\n",
       "    }\n",
       "\n",
       "    .dataframe tbody tr th {\n",
       "        vertical-align: top;\n",
       "    }\n",
       "\n",
       "    .dataframe thead th {\n",
       "        text-align: right;\n",
       "    }\n",
       "</style>\n",
       "<table border=\"1\" class=\"dataframe\">\n",
       "  <thead>\n",
       "    <tr style=\"text-align: right;\">\n",
       "      <th></th>\n",
       "      <th>id</th>\n",
       "      <th>original</th>\n",
       "      <th>edit</th>\n",
       "      <th>grades</th>\n",
       "      <th>meanGrade</th>\n",
       "    </tr>\n",
       "  </thead>\n",
       "  <tbody>\n",
       "    <tr>\n",
       "      <th>0</th>\n",
       "      <td>14530</td>\n",
       "      <td>France is ‘ hunting down its citizens who join...</td>\n",
       "      <td>twins</td>\n",
       "      <td>10000</td>\n",
       "      <td>0.2</td>\n",
       "    </tr>\n",
       "    <tr>\n",
       "      <th>1</th>\n",
       "      <td>13034</td>\n",
       "      <td>Pentagon claims 2,000 % increase in Russian tr...</td>\n",
       "      <td>bowling</td>\n",
       "      <td>33110</td>\n",
       "      <td>1.6</td>\n",
       "    </tr>\n",
       "    <tr>\n",
       "      <th>2</th>\n",
       "      <td>8731</td>\n",
       "      <td>Iceland PM Calls Snap Vote as Pedophile Furor ...</td>\n",
       "      <td>party</td>\n",
       "      <td>22100</td>\n",
       "      <td>1.0</td>\n",
       "    </tr>\n",
       "    <tr>\n",
       "      <th>3</th>\n",
       "      <td>76</td>\n",
       "      <td>In an apparent first , Iran and Israel &lt;engage...</td>\n",
       "      <td>slap</td>\n",
       "      <td>20000</td>\n",
       "      <td>0.4</td>\n",
       "    </tr>\n",
       "    <tr>\n",
       "      <th>4</th>\n",
       "      <td>6164</td>\n",
       "      <td>Trump was told weeks ago that Flynn misled &lt;Vi...</td>\n",
       "      <td>school</td>\n",
       "      <td>0</td>\n",
       "      <td>0.0</td>\n",
       "    </tr>\n",
       "  </tbody>\n",
       "</table>\n",
       "</div>"
      ],
      "text/plain": [
       "      id                                           original     edit  grades  \\\n",
       "0  14530  France is ‘ hunting down its citizens who join...    twins   10000   \n",
       "1  13034  Pentagon claims 2,000 % increase in Russian tr...  bowling   33110   \n",
       "2   8731  Iceland PM Calls Snap Vote as Pedophile Furor ...    party   22100   \n",
       "3     76  In an apparent first , Iran and Israel <engage...     slap   20000   \n",
       "4   6164  Trump was told weeks ago that Flynn misled <Vi...   school       0   \n",
       "\n",
       "   meanGrade  \n",
       "0        0.2  \n",
       "1        1.6  \n",
       "2        1.0  \n",
       "3        0.4  \n",
       "4        0.0  "
      ]
     },
     "execution_count": 3,
     "metadata": {},
     "output_type": "execute_result"
    }
   ],
   "source": [
    "data = pd.read_csv('data/humicroedit/task-1/train.csv')\n",
    "data.head()"
   ]
  },
  {
   "cell_type": "code",
   "execution_count": 4,
   "metadata": {},
   "outputs": [
    {
     "data": {
      "text/plain": [
       "(9652, 5)"
      ]
     },
     "execution_count": 4,
     "metadata": {},
     "output_type": "execute_result"
    }
   ],
   "source": [
    "data.shape"
   ]
  },
  {
   "cell_type": "markdown",
   "metadata": {},
   "source": [
    "The `grades` column represents raw grades assigned by the reviewers. Some headlines have 5 reviews, some have just one. \n",
    "\n",
    "One review is usually just 0 - the first reviewer defined it as not interesting and there was no follow up.\n",
    "\n",
    "Questions associated with this:\n",
    "- distribution of mean grades\n",
    "\n",
    "- distribution of # reviews each title got \n",
    "\n",
    "- how \"indecisive\" or how much in agreement voters were"
   ]
  },
  {
   "cell_type": "code",
   "execution_count": 124,
   "metadata": {},
   "outputs": [
    {
     "data": {
      "text/plain": [
       "Text(0.5, 1.0, 'Dsitribution of mean grades')"
      ]
     },
     "execution_count": 124,
     "metadata": {},
     "output_type": "execute_result"
    },
    {
     "data": {
      "image/png": "[encoded data removed]",
      "text/plain": [
       "<Figure size 432x288 with 1 Axes>"
      ]
     },
     "metadata": {
      "needs_background": "light"
     },
     "output_type": "display_data"
    }
   ],
   "source": [
    "plt.hist(data.meanGrade, bins=20)\n",
    "plt.title('Dsitribution of mean grades')"
   ]
  },
  {
   "cell_type": "code",
   "execution_count": 3,
   "metadata": {},
   "outputs": [
    {
     "data": {
      "text/plain": [
       "Text(0.5, 1.0, 'Number of reviewers per title')"
      ]
     },
     "execution_count": 3,
     "metadata": {},
     "output_type": "execute_result"
    },
    {
     "data": {
      "image/png": "[encoded data removed]",
      "text/plain": [
       "<Figure size 432x288 with 1 Axes>"
      ]
     },
     "metadata": {
      "needs_background": "light"
     },
     "output_type": "display_data"
    }
   ],
   "source": [
    "plt.hist(data.grades.astype(str).str.len().values)\n",
    "plt.title('Number of reviewers per title')"
   ]
  },
  {
   "cell_type": "code",
   "execution_count": 42,
   "metadata": {},
   "outputs": [],
   "source": [
    "grades = data.grades.astype(str).str.split('')\n",
    "std_list = np.zeros(len(grades))\n",
    "for i,g in enumerate(grades):\n",
    "    g = g[1:][:-1]\n",
    "    g = list(map(int, g))\n",
    "    std_list[i] = np.std(g)"
   ]
  },
  {
   "cell_type": "code",
   "execution_count": 7,
   "metadata": {},
   "outputs": [
    {
     "data": {
      "text/plain": [
       "Text(0.5, 1.0, 'Distribution of standard deviations for reviews')"
      ]
     },
     "execution_count": 7,
     "metadata": {},
     "output_type": "execute_result"
    },
    {
     "data": {
      "image/png": "[encoded data removed]",
      "text/plain": [
       "<Figure size 432x288 with 1 Axes>"
      ]
     },
     "metadata": {
      "needs_background": "light"
     },
     "output_type": "display_data"
    }
   ],
   "source": [
    "plt.hist(std_list)\n",
    "plt.title('Distribution of standard deviations for reviews')"
   ]
  },
  {
   "cell_type": "code",
   "execution_count": 43,
   "metadata": {},
   "outputs": [
    {
     "data": {
      "text/html": [
       "<div>\n",
       "<style scoped>\n",
       "    .dataframe tbody tr th:only-of-type {\n",
       "        vertical-align: middle;\n",
       "    }\n",
       "\n",
       "    .dataframe tbody tr th {\n",
       "        vertical-align: top;\n",
       "    }\n",
       "\n",
       "    .dataframe thead th {\n",
       "        text-align: right;\n",
       "    }\n",
       "</style>\n",
       "<table border=\"1\" class=\"dataframe\">\n",
       "  <thead>\n",
       "    <tr style=\"text-align: right;\">\n",
       "      <th></th>\n",
       "      <th>id</th>\n",
       "      <th>original</th>\n",
       "      <th>edit</th>\n",
       "      <th>grades</th>\n",
       "      <th>meanGrade</th>\n",
       "      <th>STD</th>\n",
       "      <th>number_reviewers</th>\n",
       "    </tr>\n",
       "  </thead>\n",
       "  <tbody>\n",
       "    <tr>\n",
       "      <th>0</th>\n",
       "      <td>14530</td>\n",
       "      <td>France is ‘ hunting down its citizens who join...</td>\n",
       "      <td>twins</td>\n",
       "      <td>10000</td>\n",
       "      <td>0.2</td>\n",
       "      <td>0.400000</td>\n",
       "      <td>5</td>\n",
       "    </tr>\n",
       "    <tr>\n",
       "      <th>1</th>\n",
       "      <td>13034</td>\n",
       "      <td>Pentagon claims 2,000 % increase in Russian tr...</td>\n",
       "      <td>bowling</td>\n",
       "      <td>33110</td>\n",
       "      <td>1.6</td>\n",
       "      <td>1.200000</td>\n",
       "      <td>5</td>\n",
       "    </tr>\n",
       "    <tr>\n",
       "      <th>2</th>\n",
       "      <td>8731</td>\n",
       "      <td>Iceland PM Calls Snap Vote as Pedophile Furor ...</td>\n",
       "      <td>party</td>\n",
       "      <td>22100</td>\n",
       "      <td>1.0</td>\n",
       "      <td>0.894427</td>\n",
       "      <td>5</td>\n",
       "    </tr>\n",
       "  </tbody>\n",
       "</table>\n",
       "</div>"
      ],
      "text/plain": [
       "      id                                           original     edit  grades  \\\n",
       "0  14530  France is ‘ hunting down its citizens who join...    twins   10000   \n",
       "1  13034  Pentagon claims 2,000 % increase in Russian tr...  bowling   33110   \n",
       "2   8731  Iceland PM Calls Snap Vote as Pedophile Furor ...    party   22100   \n",
       "\n",
       "   meanGrade       STD  number_reviewers  \n",
       "0        0.2  0.400000                 5  \n",
       "1        1.6  1.200000                 5  \n",
       "2        1.0  0.894427                 5  "
      ]
     },
     "execution_count": 43,
     "metadata": {},
     "output_type": "execute_result"
    }
   ],
   "source": [
    "data['STD'] = std_list\n",
    "data['number_reviewers'] = data.grades.astype(str).str.len().values\n",
    "data.head(3)"
   ]
  },
  {
   "cell_type": "code",
   "execution_count": 44,
   "metadata": {},
   "outputs": [],
   "source": [
    "data.to_csv('data/task-1/train_std.csv')"
   ]
  },
  {
   "cell_type": "code",
   "execution_count": 129,
   "metadata": {},
   "outputs": [
    {
     "data": {
      "image/png": "[encoded data removed]",
      "text/plain": [
       "<Figure size 720x360 with 1 Axes>"
      ]
     },
     "metadata": {
      "needs_background": "light"
     },
     "output_type": "display_data"
    }
   ],
   "source": [
    "fig, ax = plt.subplots(figsize=(10,5))\n",
    "sns.scatterplot(data=data, x='meanGrade', y='STD', \n",
    "                size='number_reviewers', sizes=(30,50),\n",
    "                hue='number_reviewers')\n",
    "plt.title('Mean grade vs standard deviation of the reviews');"
   ]
  },
  {
   "cell_type": "markdown",
   "metadata": {},
   "source": [
    "### Explore weight options"
   ]
  },
  {
   "cell_type": "code",
   "execution_count": 45,
   "metadata": {},
   "outputs": [
    {
     "data": {
      "image/png": "[encoded data removed]",
      "text/plain": [
       "<Figure size 720x360 with 1 Axes>"
      ]
     },
     "metadata": {
      "needs_background": "light"
     },
     "output_type": "display_data"
    }
   ],
   "source": [
    "fig, ax = plt.subplots(figsize=(10,5))\n",
    "sns.scatterplot(data=data, x='number_reviewers', y='STD', \n",
    "                sizes=(30,50),\n",
    "                hue='number_reviewers')\n",
    "plt.title('Number reviewers vs standard deviation of the reviews');"
   ]
  },
  {
   "cell_type": "code",
   "execution_count": 36,
   "metadata": {},
   "outputs": [
    {
     "data": {
      "image/png": "[encoded data removed]",
      "text/plain": [
       "<Figure size 720x360 with 1 Axes>"
      ]
     },
     "metadata": {
      "needs_background": "light"
     },
     "output_type": "display_data"
    }
   ],
   "source": [
    "fig, ax = plt.subplots(figsize=(10,5))\n",
    "plt.scatter(data['number_reviewers'], np.exp(-(data['STD']+0.1)/data['number_reviewers']))\n",
    "plt.title('Possible weighting options');\n",
    "plt.xlabel('Number reviewers');\n",
    "plt.ylabel('Confidence');"
   ]
  },
  {
   "cell_type": "code",
   "execution_count": 37,
   "metadata": {},
   "outputs": [
    {
     "data": {
      "image/png": "[encoded data removed]",
      "text/plain": [
       "<Figure size 720x360 with 1 Axes>"
      ]
     },
     "metadata": {
      "needs_background": "light"
     },
     "output_type": "display_data"
    }
   ],
   "source": [
    "fig, ax = plt.subplots(figsize=(10,5))\n",
    "plt.scatter(data['STD'], np.exp(-(data['STD']+0.1)/data['number_reviewers']))\n",
    "plt.title('Possible weighting options');\n",
    "plt.xlabel('Standard deviation of the reviews');\n",
    "plt.ylabel('Confidence');"
   ]
  },
  {
   "cell_type": "code",
   "execution_count": 38,
   "metadata": {},
   "outputs": [
    {
     "data": {
      "image/png": "[encoded data removed]",
      "text/plain": [
       "<Figure size 720x360 with 1 Axes>"
      ]
     },
     "metadata": {
      "needs_background": "light"
     },
     "output_type": "display_data"
    }
   ],
   "source": [
    "fig, ax = plt.subplots(figsize=(10,5))\n",
    "plt.scatter(data['meanGrade'], np.exp(-(data['STD']+.1)/data['number_reviewers']))\n",
    "plt.title('Possible weighting options');\n",
    "plt.xlabel('mean grade');\n",
    "plt.ylabel('Confidence');"
   ]
  },
  {
   "cell_type": "code",
   "execution_count": 39,
   "metadata": {},
   "outputs": [
    {
     "data": {
      "text/plain": [
       "(array([ 132., 1045.,  804.,  988., 2705.,  499., 3357.,   63.,   12.,\n",
       "          47.]),\n",
       " array([0.73056376, 0.75552725, 0.78049074, 0.80545423, 0.83041773,\n",
       "        0.85538122, 0.88034471, 0.9053082 , 0.93027169, 0.95523518,\n",
       "        0.98019867]),\n",
       " <a list of 10 Patch objects>)"
      ]
     },
     "execution_count": 39,
     "metadata": {},
     "output_type": "execute_result"
    },
    {
     "data": {
      "image/png": "[encoded data removed]",
      "text/plain": [
       "<Figure size 432x288 with 1 Axes>"
      ]
     },
     "metadata": {
      "needs_background": "light"
     },
     "output_type": "display_data"
    }
   ],
   "source": [
    "plt.hist(np.exp(-(data['STD']+.1)/data['number_reviewers']))"
   ]
  },
  {
   "cell_type": "code",
   "execution_count": 46,
   "metadata": {},
   "outputs": [
    {
     "data": {
      "text/plain": [
       "(array([ 132.,  399.,  923., 1515., 2705.,  492., 1520., 1889.,   30.,\n",
       "          47.]),\n",
       " array([-0.31393877, -0.28454489, -0.25515102, -0.22575714, -0.19636326,\n",
       "        -0.16696938, -0.13757551, -0.10818163, -0.07878775, -0.04939388,\n",
       "        -0.02      ]),\n",
       " <a list of 10 Patch objects>)"
      ]
     },
     "execution_count": 46,
     "metadata": {},
     "output_type": "execute_result"
    },
    {
     "data": {
      "image/png": "[encoded data removed]",
      "text/plain": [
       "<Figure size 432x288 with 1 Axes>"
      ]
     },
     "metadata": {
      "needs_background": "light"
     },
     "output_type": "display_data"
    }
   ],
   "source": [
    "plt.hist((-(data['STD']+.1)/data['number_reviewers']))"
   ]
  },
  {
   "cell_type": "markdown",
   "metadata": {},
   "source": [
    "There are ~10K training examples, lightly skewed towards less funny replacements. The dataset was collected taking into account the std of the reviews it seems "
   ]
  },
  {
   "cell_type": "code",
   "execution_count": 58,
   "metadata": {},
   "outputs": [
    {
     "data": {
      "text/plain": [
       "0.9048374180359595"
      ]
     },
     "execution_count": 58,
     "metadata": {},
     "output_type": "execute_result"
    }
   ],
   "source": [
    "np.exp(-.1)"
   ]
  },
  {
   "cell_type": "markdown",
   "metadata": {},
   "source": [
    "## Look at some examples"
   ]
  },
  {
   "cell_type": "code",
   "execution_count": 130,
   "metadata": {},
   "outputs": [
    {
     "data": {
      "text/html": [
       "<div>\n",
       "<style scoped>\n",
       "    .dataframe tbody tr th:only-of-type {\n",
       "        vertical-align: middle;\n",
       "    }\n",
       "\n",
       "    .dataframe tbody tr th {\n",
       "        vertical-align: top;\n",
       "    }\n",
       "\n",
       "    .dataframe thead th {\n",
       "        text-align: right;\n",
       "    }\n",
       "</style>\n",
       "<table border=\"1\" class=\"dataframe\">\n",
       "  <thead>\n",
       "    <tr style=\"text-align: right;\">\n",
       "      <th></th>\n",
       "      <th>original</th>\n",
       "      <th>edit</th>\n",
       "      <th>grades</th>\n",
       "    </tr>\n",
       "  </thead>\n",
       "  <tbody>\n",
       "    <tr>\n",
       "      <th>6075</th>\n",
       "      <td>Recent Scandals Highlight Trump 's Chaotic &lt;Management/&gt; Style</td>\n",
       "      <td>Fashion</td>\n",
       "      <td>33333</td>\n",
       "    </tr>\n",
       "    <tr>\n",
       "      <th>1490</th>\n",
       "      <td>President Trump 's first year &lt;anniversary/&gt; report card , with grades from A + to F</td>\n",
       "      <td>Kindergarten</td>\n",
       "      <td>33333</td>\n",
       "    </tr>\n",
       "    <tr>\n",
       "      <th>4438</th>\n",
       "      <td>How an FBI raid fed a rumor that Orrin Hatch was about to become &lt;president/&gt;</td>\n",
       "      <td>pregnant</td>\n",
       "      <td>33332</td>\n",
       "    </tr>\n",
       "    <tr>\n",
       "      <th>8726</th>\n",
       "      <td>Trump admits tariffs could cause ' pain ' in &lt;markets/&gt;</td>\n",
       "      <td>buttock</td>\n",
       "      <td>33332</td>\n",
       "    </tr>\n",
       "    <tr>\n",
       "      <th>6946</th>\n",
       "      <td>Kasich : Trump &lt;tweets/&gt; ‘ unacceptable ’</td>\n",
       "      <td>hair</td>\n",
       "      <td>33332</td>\n",
       "    </tr>\n",
       "    <tr>\n",
       "      <th>3443</th>\n",
       "      <td>Essential Politics : California 's hottest congressional &lt;races/&gt; , ranked</td>\n",
       "      <td>mistresses</td>\n",
       "      <td>33332</td>\n",
       "    </tr>\n",
       "    <tr>\n",
       "      <th>8845</th>\n",
       "      <td>Conservative Leaders Urge Mitch McConnell to &lt;Resign/&gt;</td>\n",
       "      <td>Bathe</td>\n",
       "      <td>33332</td>\n",
       "    </tr>\n",
       "    <tr>\n",
       "      <th>4336</th>\n",
       "      <td>The last president to &lt;fire/&gt; an FBI director ? Bill Clinton</td>\n",
       "      <td>kiss</td>\n",
       "      <td>33332</td>\n",
       "    </tr>\n",
       "    <tr>\n",
       "      <th>8351</th>\n",
       "      <td>Trump forced &lt;women/&gt; to wear \" very tiny \" bathing suits and higher heels after buying beauty pageants</td>\n",
       "      <td>sons</td>\n",
       "      <td>33332</td>\n",
       "    </tr>\n",
       "    <tr>\n",
       "      <th>7474</th>\n",
       "      <td>Time Asks Donald Trump to Remove Fake &lt;Cover/&gt; From Business Properties</td>\n",
       "      <td>hair</td>\n",
       "      <td>33332</td>\n",
       "    </tr>\n",
       "    <tr>\n",
       "      <th>8626</th>\n",
       "      <td>Ex-British spy paid $ 168,000 for Trump &lt;dossier/&gt; , U.S. firm discloses</td>\n",
       "      <td>hair</td>\n",
       "      <td>33332</td>\n",
       "    </tr>\n",
       "    <tr>\n",
       "      <th>1290</th>\n",
       "      <td>Mitch McConnell thinks tax reform will take longer than Trump &lt;claimed/&gt;</td>\n",
       "      <td>Haircut</td>\n",
       "      <td>33332</td>\n",
       "    </tr>\n",
       "    <tr>\n",
       "      <th>3835</th>\n",
       "      <td>Recent Scandals Highlight Trump 's Chaotic &lt;Management/&gt; Style</td>\n",
       "      <td>hair</td>\n",
       "      <td>33332</td>\n",
       "    </tr>\n",
       "    <tr>\n",
       "      <th>6879</th>\n",
       "      <td>Hillary Clinton Staffers Considered Campaign Slogan ' Because It 's Her &lt;Turn/&gt; '</td>\n",
       "      <td>Fault</td>\n",
       "      <td>33332</td>\n",
       "    </tr>\n",
       "    <tr>\n",
       "      <th>898</th>\n",
       "      <td>What if &lt;Sociologists/&gt; Had as Much Influence as Economists ?</td>\n",
       "      <td>donkeys</td>\n",
       "      <td>33332</td>\n",
       "    </tr>\n",
       "  </tbody>\n",
       "</table>\n",
       "</div>"
      ],
      "text/plain": [
       "                                                                                                     original  \\\n",
       "6075  Recent Scandals Highlight Trump 's Chaotic <Management/> Style                                            \n",
       "1490  President Trump 's first year <anniversary/> report card , with grades from A + to F                      \n",
       "4438  How an FBI raid fed a rumor that Orrin Hatch was about to become <president/>                             \n",
       "8726  Trump admits tariffs could cause ' pain ' in <markets/>                                                   \n",
       "6946  Kasich : Trump <tweets/> ‘ unacceptable ’                                                                 \n",
       "3443  Essential Politics : California 's hottest congressional <races/> , ranked                                \n",
       "8845  Conservative Leaders Urge Mitch McConnell to <Resign/>                                                    \n",
       "4336  The last president to <fire/> an FBI director ? Bill Clinton                                              \n",
       "8351  Trump forced <women/> to wear \" very tiny \" bathing suits and higher heels after buying beauty pageants   \n",
       "7474  Time Asks Donald Trump to Remove Fake <Cover/> From Business Properties                                   \n",
       "8626  Ex-British spy paid $ 168,000 for Trump <dossier/> , U.S. firm discloses                                  \n",
       "1290  Mitch McConnell thinks tax reform will take longer than Trump <claimed/>                                  \n",
       "3835  Recent Scandals Highlight Trump 's Chaotic <Management/> Style                                            \n",
       "6879  Hillary Clinton Staffers Considered Campaign Slogan ' Because It 's Her <Turn/> '                         \n",
       "898   What if <Sociologists/> Had as Much Influence as Economists ?                                             \n",
       "\n",
       "              edit  grades  \n",
       "6075  Fashion       33333   \n",
       "1490  Kindergarten  33333   \n",
       "4438  pregnant      33332   \n",
       "8726  buttock       33332   \n",
       "6946  hair          33332   \n",
       "3443  mistresses    33332   \n",
       "8845  Bathe         33332   \n",
       "4336  kiss          33332   \n",
       "8351  sons          33332   \n",
       "7474  hair          33332   \n",
       "8626  hair          33332   \n",
       "1290  Haircut       33332   \n",
       "3835  hair          33332   \n",
       "6879  Fault         33332   \n",
       "898   donkeys       33332   "
      ]
     },
     "execution_count": 130,
     "metadata": {},
     "output_type": "execute_result"
    }
   ],
   "source": [
    "pd.set_option('display.max_colwidth', -1)\n",
    "data.sort_values(by='meanGrade', ascending=False)[['original', 'edit','grades']].head(15)"
   ]
  },
  {
   "cell_type": "code",
   "execution_count": 131,
   "metadata": {},
   "outputs": [
    {
     "data": {
      "text/html": [
       "<div>\n",
       "<style scoped>\n",
       "    .dataframe tbody tr th:only-of-type {\n",
       "        vertical-align: middle;\n",
       "    }\n",
       "\n",
       "    .dataframe tbody tr th {\n",
       "        vertical-align: top;\n",
       "    }\n",
       "\n",
       "    .dataframe thead th {\n",
       "        text-align: right;\n",
       "    }\n",
       "</style>\n",
       "<table border=\"1\" class=\"dataframe\">\n",
       "  <thead>\n",
       "    <tr style=\"text-align: right;\">\n",
       "      <th></th>\n",
       "      <th>original</th>\n",
       "      <th>edit</th>\n",
       "      <th>grades</th>\n",
       "    </tr>\n",
       "  </thead>\n",
       "  <tbody>\n",
       "    <tr>\n",
       "      <th>519</th>\n",
       "      <td>Carson proposes that poor should &lt;pay/&gt; more rent</td>\n",
       "      <td>forgo</td>\n",
       "      <td>0</td>\n",
       "    </tr>\n",
       "    <tr>\n",
       "      <th>7823</th>\n",
       "      <td>Central Michigan University On Lockdown After &lt;Shooting/&gt; At Dorm Kills 2</td>\n",
       "      <td>stabbing</td>\n",
       "      <td>0</td>\n",
       "    </tr>\n",
       "    <tr>\n",
       "      <th>1599</th>\n",
       "      <td>&lt;Devin Nunes/&gt; tried to discredit the FBI . Instead , he proved it ’s onto something .</td>\n",
       "      <td>dogs</td>\n",
       "      <td>0</td>\n",
       "    </tr>\n",
       "    <tr>\n",
       "      <th>7814</th>\n",
       "      <td>What happened to jarred closed &lt;testimony/&gt;</td>\n",
       "      <td>book</td>\n",
       "      <td>0</td>\n",
       "    </tr>\n",
       "    <tr>\n",
       "      <th>7801</th>\n",
       "      <td>Putin 's dilemma : Scrap &lt;term/&gt; limits or choose a successor</td>\n",
       "      <td>credit</td>\n",
       "      <td>0</td>\n",
       "    </tr>\n",
       "  </tbody>\n",
       "</table>\n",
       "</div>"
      ],
      "text/plain": [
       "                                                                                     original  \\\n",
       "519   Carson proposes that poor should <pay/> more rent                                         \n",
       "7823  Central Michigan University On Lockdown After <Shooting/> At Dorm Kills 2                 \n",
       "1599   <Devin Nunes/> tried to discredit the FBI . Instead , he proved it ’s onto something .   \n",
       "7814  What happened to jarred closed <testimony/>                                               \n",
       "7801  Putin 's dilemma : Scrap <term/> limits or choose a successor                             \n",
       "\n",
       "          edit  grades  \n",
       "519   forgo     0       \n",
       "7823  stabbing  0       \n",
       "1599  dogs      0       \n",
       "7814  book      0       \n",
       "7801  credit    0       "
      ]
     },
     "execution_count": 131,
     "metadata": {},
     "output_type": "execute_result"
    }
   ],
   "source": [
    "data.sort_values(by='meanGrade', ascending=True)[['original', 'edit','grades']].head(5)"
   ]
  },
  {
   "cell_type": "markdown",
   "metadata": {},
   "source": [
    "There are a lot of *hair* jokes floating around. "
   ]
  },
  {
   "cell_type": "code",
   "execution_count": 132,
   "metadata": {},
   "outputs": [
    {
     "data": {
      "text/plain": [
       "53"
      ]
     },
     "execution_count": 132,
     "metadata": {},
     "output_type": "execute_result"
    }
   ],
   "source": [
    "sum(data.edit.str.lower()=='hair')"
   ]
  },
  {
   "cell_type": "code",
   "execution_count": 134,
   "metadata": {},
   "outputs": [
    {
     "data": {
      "text/html": [
       "<div>\n",
       "<style scoped>\n",
       "    .dataframe tbody tr th:only-of-type {\n",
       "        vertical-align: middle;\n",
       "    }\n",
       "\n",
       "    .dataframe tbody tr th {\n",
       "        vertical-align: top;\n",
       "    }\n",
       "\n",
       "    .dataframe thead th {\n",
       "        text-align: right;\n",
       "    }\n",
       "</style>\n",
       "<table border=\"1\" class=\"dataframe\">\n",
       "  <thead>\n",
       "    <tr style=\"text-align: right;\">\n",
       "      <th></th>\n",
       "      <th>original</th>\n",
       "      <th>edit</th>\n",
       "      <th>grades</th>\n",
       "    </tr>\n",
       "  </thead>\n",
       "  <tbody>\n",
       "    <tr>\n",
       "      <th>104</th>\n",
       "      <td>Trump Chief of &lt;Staff/&gt; John Kelly calls Confederate Gen. Robert E. Lee an ' honorable man '</td>\n",
       "      <td>hair</td>\n",
       "      <td>33320</td>\n",
       "    </tr>\n",
       "    <tr>\n",
       "      <th>294</th>\n",
       "      <td>Trump ’s &lt;mouth/&gt; battles the storm</td>\n",
       "      <td>hair</td>\n",
       "      <td>33222</td>\n",
       "    </tr>\n",
       "    <tr>\n",
       "      <th>331</th>\n",
       "      <td>It ’s wishful thinking to blame Hillary Clinton ’s &lt;loss/&gt; on Cambridge Analytica</td>\n",
       "      <td>hair</td>\n",
       "      <td>32100</td>\n",
       "    </tr>\n",
       "    <tr>\n",
       "      <th>345</th>\n",
       "      <td>John McCain : GOP &lt;health/&gt; care bill likely ' dead '</td>\n",
       "      <td>hair</td>\n",
       "      <td>33221</td>\n",
       "    </tr>\n",
       "    <tr>\n",
       "      <th>405</th>\n",
       "      <td>Fox News host goes on epic 4-minute rant on Trump 's pattern of false &lt;statements/&gt; : ' Mr. President , that 's your swamp '</td>\n",
       "      <td>hair</td>\n",
       "      <td>22111</td>\n",
       "    </tr>\n",
       "  </tbody>\n",
       "</table>\n",
       "</div>"
      ],
      "text/plain": [
       "                                                                                                                         original  \\\n",
       "104  Trump Chief of <Staff/> John Kelly calls Confederate Gen. Robert E. Lee an ' honorable man '                                   \n",
       "294  Trump ’s <mouth/> battles the storm                                                                                            \n",
       "331  It ’s wishful thinking to blame Hillary Clinton ’s <loss/> on Cambridge Analytica                                              \n",
       "345  John McCain : GOP <health/> care bill likely ' dead '                                                                          \n",
       "405  Fox News host goes on epic 4-minute rant on Trump 's pattern of false <statements/> : ' Mr. President , that 's your swamp '   \n",
       "\n",
       "     edit  grades  \n",
       "104  hair  33320   \n",
       "294  hair  33222   \n",
       "331  hair  32100   \n",
       "345  hair  33221   \n",
       "405  hair  22111   "
      ]
     },
     "execution_count": 134,
     "metadata": {},
     "output_type": "execute_result"
    }
   ],
   "source": [
    "data[data.edit.str.lower()=='hair'][['original', 'edit','grades']].head(5)"
   ]
  },
  {
   "cell_type": "markdown",
   "metadata": {},
   "source": [
    "So there are a lot of hair jokes. Are they funny enough?"
   ]
  },
  {
   "cell_type": "code",
   "execution_count": 144,
   "metadata": {},
   "outputs": [
    {
     "data": {
      "text/plain": [
       "Text(0.5, 0, 'Mean grade')"
      ]
     },
     "execution_count": 144,
     "metadata": {},
     "output_type": "execute_result"
    },
    {
     "data": {
      "image/png": "[encoded data removed]",
      "text/plain": [
       "<Figure size 432x288 with 1 Axes>"
      ]
     },
     "metadata": {
      "needs_background": "light"
     },
     "output_type": "display_data"
    }
   ],
   "source": [
    "plt.hist(data[data.edit.str.lower()=='hair'].meanGrade, bins=10);\n",
    "plt.vlines(data[data.edit.str.lower()=='hair'].meanGrade.mean(), ymin=0, ymax=12, color='r')\n",
    "plt.title('Are *hair* jokes funny?')\n",
    "plt.xlabel('Mean grade')"
   ]
  },
  {
   "cell_type": "markdown",
   "metadata": {},
   "source": [
    "So the hair jokes are skewed towards more funny ones"
   ]
  },
  {
   "cell_type": "markdown",
   "metadata": {},
   "source": [
    "## Other dataset properties"
   ]
  },
  {
   "cell_type": "code",
   "execution_count": 155,
   "metadata": {},
   "outputs": [
    {
     "data": {
      "text/plain": [
       "Text(0.5, 1.0, 'Length of sentences provided')"
      ]
     },
     "execution_count": 155,
     "metadata": {},
     "output_type": "execute_result"
    },
    {
     "data": {
      "image/png": "[encoded data removed]",
      "text/plain": [
       "<Figure size 432x288 with 1 Axes>"
      ]
     },
     "metadata": {
      "needs_background": "light"
     },
     "output_type": "display_data"
    }
   ],
   "source": [
    "sent_length = [len(i) for i in data.original.str.split(' ')]\n",
    "plt.hist(sent_length)\n",
    "plt.title('Length of sentences provided')"
   ]
  },
  {
   "cell_type": "code",
   "execution_count": null,
   "metadata": {},
   "outputs": [],
   "source": []
  }
 ],
 "metadata": {
  "kernelspec": {
   "display_name": "deepsea-disease",
   "language": "python",
   "name": "deepsea-disease"
  },
  "language_info": {
   "codemirror_mode": {
    "name": "ipython",
    "version": 3
   },
   "file_extension": ".py",
   "mimetype": "text/x-python",
   "name": "python",
   "nbconvert_exporter": "python",
   "pygments_lexer": "ipython3",
   "version": "3.7.3"
  }
 },
 "nbformat": 4,
 "nbformat_minor": 2
}
