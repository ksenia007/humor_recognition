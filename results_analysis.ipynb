{
 "cells": [
  {
   "cell_type": "code",
   "execution_count": 37,
   "metadata": {},
   "outputs": [],
   "source": [
    "import numpy as np\n",
    "import pandas as pd\n",
    "import pickle\n",
    "import matplotlib.pyplot as plt\n",
    "import torch\n",
    "import os\n",
    "import seaborn as sns\n",
    "pd.set_option('display.max_colwidth', -1)\n",
    "import re\n",
    "import json\n",
    "from sklearn.model_selection import train_test_split\n",
    "sns.set_style(\"whitegrid\")\n",
    "from sklearn.metrics import accuracy_score\n",
    "from sklearn.metrics import precision_score\n",
    "from sklearn.metrics import recall_score"
   ]
  },
  {
   "cell_type": "markdown",
   "metadata": {},
   "source": [
    "# Metadata for runs"
   ]
  },
  {
   "cell_type": "code",
   "execution_count": 70,
   "metadata": {},
   "outputs": [],
   "source": [
    "runs = pickle.load(open('results/grid/basic/metadata3.pickle', 'rb'))"
   ]
  },
  {
   "cell_type": "code",
   "execution_count": 71,
   "metadata": {},
   "outputs": [
    {
     "data": {
      "text/plain": [
       "{'grid/basic/BERT_model_basic_CLS_c9abb46b-4eb7-4f9f-a15c-50bf159567d2.pt': {'train_error_all': [0.4645846341393682,\n",
       "   0.41313225974143863,\n",
       "   0.387060784728127,\n",
       "   0.3731812527880078,\n",
       "   0.3651940554357414,\n",
       "   0.3569891966554901,\n",
       "   0.3553404177713586],\n",
       "  'val_error_all': [array(0.44899854, dtype=float32),\n",
       "   array(0.40917155, dtype=float32),\n",
       "   array(0.39275748, dtype=float32),\n",
       "   array(0.38434672, dtype=float32),\n",
       "   array(0.37633324, dtype=float32),\n",
       "   array(0.3761544, dtype=float32),\n",
       "   array(0.37046382, dtype=float32)],\n",
       "  'parameters': {'batch_size': 256, 'maxlen': 25, 'lr': 0.001, 'step': 5},\n",
       "  'train_filename': 'data/basic_full_dataset_v1_train.csv'},\n",
       " 'grid/basic/BERT_model_basic_CLS_fbbb86df-af97-48f3-aacc-24674d51e3fb.pt': {'train_error_all': [0.4902101790204325,\n",
       "   0.44436960871488906,\n",
       "   0.4133538381422817,\n",
       "   0.400276429131364,\n",
       "   0.3866007002171855,\n",
       "   0.3780481577782797,\n",
       "   0.36991822057911444],\n",
       "  'val_error_all': [array(0.46517, dtype=float32),\n",
       "   array(0.43976653, dtype=float32),\n",
       "   array(0.41482764, dtype=float32),\n",
       "   array(0.40766475, dtype=float32),\n",
       "   array(0.39284593, dtype=float32),\n",
       "   array(0.3934593, dtype=float32),\n",
       "   array(0.38249657, dtype=float32)],\n",
       "  'parameters': {'batch_size': 256, 'maxlen': 25, 'lr': 0.001, 'step': 10},\n",
       "  'train_filename': 'data/basic_full_dataset_v1_train.csv'},\n",
       " 'grid/basic/BERT_model_basic_CLS_56281d1e-39a9-4a87-a856-da38288b16c4.pt': {'train_error_all': [0.5801400852436795,\n",
       "   0.49332552350779496,\n",
       "   0.46546710442623146,\n",
       "   0.44636647345360514,\n",
       "   0.4372289653403175,\n",
       "   0.4306450106991238,\n",
       "   0.4294626024612006],\n",
       "  'val_error_all': [array(0.52007776, dtype=float32),\n",
       "   array(0.48449898, dtype=float32),\n",
       "   array(0.46526998, dtype=float32),\n",
       "   array(0.45141867, dtype=float32),\n",
       "   array(0.4445077, dtype=float32),\n",
       "   array(0.44310445, dtype=float32),\n",
       "   array(0.44297332, dtype=float32)],\n",
       "  'parameters': {'batch_size': 256, 'maxlen': 25, 'lr': 0.0001, 'step': 5},\n",
       "  'train_filename': 'data/basic_full_dataset_v1_train.csv'},\n",
       " 'grid/basic/BERT_model_basic_CLS_b3b333c7-bbf8-4868-bf0c-362db68cd92b.pt': {'train_error_all': [0.6577413661564584,\n",
       "   0.5361628552263282,\n",
       "   0.5099643263751668,\n",
       "   0.49296100516322344,\n",
       "   0.4789643221920017,\n",
       "   0.46846133384262933,\n",
       "   0.4568748657054693],\n",
       "  'val_error_all': [array(0.5628025, dtype=float32),\n",
       "   array(0.5345256, dtype=float32),\n",
       "   array(0.50725734, dtype=float32),\n",
       "   array(0.50201404, dtype=float32),\n",
       "   array(0.48000342, dtype=float32),\n",
       "   array(0.47448492, dtype=float32),\n",
       "   array(0.46633375, dtype=float32)],\n",
       "  'parameters': {'batch_size': 256, 'maxlen': 25, 'lr': 0.0001, 'step': 10},\n",
       "  'train_filename': 'data/basic_full_dataset_v1_train.csv'},\n",
       " 'grid/basic/BERT_model_basic_CLS_1c536120-acf4-49ff-8591-3bcd8ce453a4.pt': {'train_error_all': [0.6075163196033226,\n",
       "   0.5626772245247429,\n",
       "   0.5360867312694181,\n",
       "   0.5205838730507871,\n",
       "   0.5094882339748391,\n",
       "   0.5046400909461872,\n",
       "   0.5049628315212484],\n",
       "  'val_error_all': [array(0.58727413, dtype=float32),\n",
       "   array(0.55114913, dtype=float32),\n",
       "   array(0.53520733, dtype=float32),\n",
       "   array(0.5199043, dtype=float32),\n",
       "   array(0.5152141, dtype=float32),\n",
       "   array(0.51414055, dtype=float32),\n",
       "   array(0.51225764, dtype=float32)],\n",
       "  'parameters': {'batch_size': 256, 'maxlen': 25, 'lr': 1e-05, 'step': 5},\n",
       "  'train_filename': 'data/basic_full_dataset_v1_train.csv'},\n",
       " 'grid/basic/BERT_model_basic_CLS_19ac51b9-4f5f-4ac1-8e19-3a4245a4a434.pt': {'train_error_all': [0.7069566203776629,\n",
       "   0.6191682341019938,\n",
       "   0.5676588161763811,\n",
       "   0.5424840462509106,\n",
       "   0.5289006069200972,\n",
       "   0.521315450686646,\n",
       "   0.516278624450841],\n",
       "  'val_error_all': [array(0.6614447, dtype=float32),\n",
       "   array(0.5891069, dtype=float32),\n",
       "   array(0.55846566, dtype=float32),\n",
       "   array(0.5422541, dtype=float32),\n",
       "   array(0.5315822, dtype=float32),\n",
       "   array(0.5249641, dtype=float32),\n",
       "   array(0.52003306, dtype=float32)],\n",
       "  'parameters': {'batch_size': 256, 'maxlen': 25, 'lr': 1e-05, 'step': 10},\n",
       "  'train_filename': 'data/basic_full_dataset_v1_train.csv'},\n",
       " 'grid/basic/BERT_model_basic_CLS_83332e38-6c22-4b7b-8b82-ecbdfb57c5cc.pt': {'train_error_all': [0.5015886561252912,\n",
       "   0.4371325672864273,\n",
       "   0.4100252218958571,\n",
       "   0.39307319478753894,\n",
       "   0.3825543719002942,\n",
       "   0.3775740836007314,\n",
       "   0.37837425230266514],\n",
       "  'val_error_all': [array(0.459599, dtype=float32),\n",
       "   array(0.44276807, dtype=float32),\n",
       "   array(0.40808883, dtype=float32),\n",
       "   array(0.3957025, dtype=float32),\n",
       "   array(0.39270166, dtype=float32),\n",
       "   array(0.39526835, dtype=float32),\n",
       "   array(0.3912332, dtype=float32)],\n",
       "  'parameters': {'batch_size': 256, 'maxlen': 30, 'lr': 0.001, 'step': 5},\n",
       "  'train_filename': 'data/basic_full_dataset_v1_train.csv'},\n",
       " 'grid/basic/BERT_model_basic_CLS_c08df918-9419-4433-a911-1822dbc28c4f.pt': {'train_error_all': [0.47271520486976354,\n",
       "   0.43676587824688323,\n",
       "   0.42741589024191157,\n",
       "   0.4194998868036222,\n",
       "   0.41520972928765404,\n",
       "   0.4110166669480639,\n",
       "   0.4092285112068048],\n",
       "  'val_error_all': [array(0.4507499, dtype=float32),\n",
       "   array(0.44007164, dtype=float32),\n",
       "   array(0.4309983, dtype=float32),\n",
       "   array(0.4285228, dtype=float32),\n",
       "   array(0.42587766, dtype=float32),\n",
       "   array(0.425428, dtype=float32),\n",
       "   array(0.4261672, dtype=float32)],\n",
       "  'parameters': {'batch_size': 256, 'maxlen': 30, 'lr': 0.001, 'step': 10},\n",
       "  'train_filename': 'data/basic_full_dataset_v1_train.csv'},\n",
       " 'grid/basic/BERT_model_basic_CLS_6aafce23-6006-4230-8223-236c48758390.pt': {'train_error_all': [0.6034449355174223,\n",
       "   0.5330733847606566,\n",
       "   0.5116583323383851,\n",
       "   0.49097870241159497,\n",
       "   0.4697566778365656,\n",
       "   0.4645803396215661,\n",
       "   0.4623661021361593],\n",
       "  'val_error_all': [array(0.556519, dtype=float32),\n",
       "   array(0.5332107, dtype=float32),\n",
       "   array(0.5065448, dtype=float32),\n",
       "   array(0.4932717, dtype=float32),\n",
       "   array(0.47361183, dtype=float32),\n",
       "   array(0.46861655, dtype=float32),\n",
       "   array(0.46954277, dtype=float32)],\n",
       "  'parameters': {'batch_size': 256, 'maxlen': 30, 'lr': 0.0001, 'step': 5},\n",
       "  'train_filename': 'data/basic_full_dataset_v1_train.csv'},\n",
       " 'grid/basic/BERT_model_basic_CLS_0171459f-b31c-4be0-888c-f6a260317156.pt': {'train_error_all': [0.5210219654235684,\n",
       "   0.4726279553604894,\n",
       "   0.45401702045899983,\n",
       "   0.4386532187969705,\n",
       "   0.4281714960825478,\n",
       "   0.4217943184092786,\n",
       "   0.41399158696981686],\n",
       "  'val_error_all': [array(0.49664998, dtype=float32),\n",
       "   array(0.47278443, dtype=float32),\n",
       "   array(0.45534438, dtype=float32),\n",
       "   array(0.44577163, dtype=float32),\n",
       "   array(0.43672478, dtype=float32),\n",
       "   array(0.42744568, dtype=float32),\n",
       "   array(0.42326173, dtype=float32)],\n",
       "  'parameters': {'batch_size': 256, 'maxlen': 30, 'lr': 0.0001, 'step': 10},\n",
       "  'train_filename': 'data/basic_full_dataset_v1_train.csv'},\n",
       " 'grid/basic/BERT_model_basic_CLS_1e0b9bc7-0bdb-4ccc-8848-49c3b0a6f6c8.pt': {'train_error_all': [0.7036559180178497,\n",
       "   0.6454905943970614,\n",
       "   0.6084355270685126,\n",
       "   0.5827731725584332,\n",
       "   0.5653566696472938,\n",
       "   0.5570237662651082,\n",
       "   0.5559724025205499],\n",
       "  'val_error_all': [array(0.6718933, dtype=float32),\n",
       "   array(0.62637514, dtype=float32),\n",
       "   array(0.5965108, dtype=float32),\n",
       "   array(0.5774461, dtype=float32),\n",
       "   array(0.5619411, dtype=float32),\n",
       "   array(0.56230944, dtype=float32),\n",
       "   array(0.5609241, dtype=float32)],\n",
       "  'parameters': {'batch_size': 256, 'maxlen': 30, 'lr': 1e-05, 'step': 5},\n",
       "  'train_filename': 'data/basic_full_dataset_v1_train.csv'},\n",
       " 'grid/basic/BERT_model_basic_CLS_47db72ee-61f4-460f-ada1-3a15100ec50b.pt': {'train_error_all': [0.6056956080602459,\n",
       "   0.5574352638960417,\n",
       "   0.5295426614485302,\n",
       "   0.5170948897133079,\n",
       "   0.5091624051086174,\n",
       "   0.503029902122503,\n",
       "   0.49883443302456526],\n",
       "  'val_error_all': [array(0.5852847, dtype=float32),\n",
       "   array(0.54656184, dtype=float32),\n",
       "   array(0.52800167, dtype=float32),\n",
       "   array(0.5210252, dtype=float32),\n",
       "   array(0.51466113, dtype=float32),\n",
       "   array(0.5091799, dtype=float32),\n",
       "   array(0.50477445, dtype=float32)],\n",
       "  'parameters': {'batch_size': 256, 'maxlen': 30, 'lr': 1e-05, 'step': 10},\n",
       "  'train_filename': 'data/basic_full_dataset_v1_train.csv'}}"
      ]
     },
     "execution_count": 71,
     "metadata": {},
     "output_type": "execute_result"
    }
   ],
   "source": [
    "runs"
   ]
  },
  {
   "cell_type": "code",
   "execution_count": 73,
   "metadata": {},
   "outputs": [
    {
     "data": {
      "text/plain": [
       "<matplotlib.legend.Legend at 0x147cf5ef0>"
      ]
     },
     "execution_count": 73,
     "metadata": {},
     "output_type": "execute_result"
    },
    {
     "data": {
      "image/png": "[encoded data removed]",
      "text/plain": [
       "<Figure size 432x288 with 1 Axes>"
      ]
     },
     "metadata": {},
     "output_type": "display_data"
    }
   ],
   "source": [
    "for i in list(runs.keys()):\n",
    "    params = runs[i]['parameters']\n",
    "    info = str(params['batch_size'])+\" maxl \"+ str(params['maxlen']) + ' lr ' + str(params['lr']) +'step'+str(params['step'])\n",
    "    plt.plot(np.array(runs[i]['val_error_all']), label = info)\n",
    "plt.legend()"
   ]
  },
  {
   "cell_type": "markdown",
   "metadata": {},
   "source": [
    "# Load results"
   ]
  },
  {
   "cell_type": "code",
   "execution_count": 3,
   "metadata": {},
   "outputs": [],
   "source": [
    "eval_res = pickle.load(open('results/evaluation/evaluation_for_puns_test_BERT_model_basic_weighted_CLS_v2.pt', 'rb'))"
   ]
  },
  {
   "cell_type": "code",
   "execution_count": 5,
   "metadata": {},
   "outputs": [
    {
     "data": {
      "text/plain": [
       "[<matplotlib.lines.Line2D at 0x1469c6898>]"
      ]
     },
     "execution_count": 5,
     "metadata": {},
     "output_type": "execute_result"
    },
    {
     "data": {
      "image/png": "[encoded data removed]",
      "text/plain": [
       "<Figure size 432x288 with 1 Axes>"
      ]
     },
     "metadata": {
      "needs_background": "light"
     },
     "output_type": "display_data"
    }
   ],
   "source": [
    "plt.plot(eval_res['metrics']['fpr'], eval_res['metrics']['tpr'])"
   ]
  },
  {
   "cell_type": "code",
   "execution_count": 30,
   "metadata": {},
   "outputs": [
    {
     "data": {
      "text/plain": [
       "0.7567287784679089"
      ]
     },
     "execution_count": 30,
     "metadata": {},
     "output_type": "execute_result"
    }
   ],
   "source": [
    "accuracy_score(y_true = eval_res['truth'], y_pred = eval_res['preds']>0.5)"
   ]
  },
  {
   "cell_type": "code",
   "execution_count": 31,
   "metadata": {},
   "outputs": [
    {
     "data": {
      "text/plain": [
       "0.75"
      ]
     },
     "execution_count": 31,
     "metadata": {},
     "output_type": "execute_result"
    }
   ],
   "source": [
    "precision_score(y_true = eval_res['truth'], y_pred = eval_res['preds']>0.5)"
   ]
  },
  {
   "cell_type": "code",
   "execution_count": 32,
   "metadata": {},
   "outputs": [
    {
     "data": {
      "text/plain": [
       "0.7671517671517671"
      ]
     },
     "execution_count": 32,
     "metadata": {},
     "output_type": "execute_result"
    }
   ],
   "source": [
    "recall_score(y_true = eval_res['truth'], y_pred = eval_res['preds']>0.5)"
   ]
  },
  {
   "cell_type": "code",
   "execution_count": null,
   "metadata": {},
   "outputs": [],
   "source": []
  }
 ],
 "metadata": {
  "kernelspec": {
   "display_name": "deepsea-disease",
   "language": "python",
   "name": "deepsea-disease"
  },
  "language_info": {
   "codemirror_mode": {
    "name": "ipython",
    "version": 3
   },
   "file_extension": ".py",
   "mimetype": "text/x-python",
   "name": "python",
   "nbconvert_exporter": "python",
   "pygments_lexer": "ipython3",
   "version": "3.7.3"
  }
 },
 "nbformat": 4,
 "nbformat_minor": 4
}
